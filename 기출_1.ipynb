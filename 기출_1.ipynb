{
  "nbformat": 4,
  "nbformat_minor": 0,
  "metadata": {
    "colab": {
      "provenance": [],
      "authorship_tag": "ABX9TyPWWxrs489Wl7GXcf5bVGO2",
      "include_colab_link": true
    },
    "kernelspec": {
      "name": "python3",
      "display_name": "Python 3"
    },
    "language_info": {
      "name": "python"
    }
  },
  "cells": [
    {
      "cell_type": "markdown",
      "metadata": {
        "id": "view-in-github",
        "colab_type": "text"
      },
      "source": [
        "<a href=\"https://colab.research.google.com/github/joosomi/BigDataStudy/blob/main/%EA%B8%B0%EC%B6%9C_1.ipynb\" target=\"_parent\"><img src=\"https://colab.research.google.com/assets/colab-badge.svg\" alt=\"Open In Colab\"/></a>"
      ]
    },
    {
      "cell_type": "markdown",
      "source": [
        "2022 5회\n",
        "- 작업형 1, 2"
      ],
      "metadata": {
        "id": "A8gcl3HUaTpG"
      }
    },
    {
      "cell_type": "code",
      "execution_count": null,
      "metadata": {
        "colab": {
          "base_uri": "https://localhost:8080/"
        },
        "id": "pDAQj7hbe1eP",
        "outputId": "e10d4e35-8dc2-4c92-dbc6-d861fb85b348"
      },
      "outputs": [
        {
          "output_type": "stream",
          "name": "stdout",
          "text": [
            "Cloning into 'yemoonsaBigdata'...\n",
            "remote: Enumerating objects: 637, done.\u001b[K\n",
            "remote: Counting objects: 100% (274/274), done.\u001b[K\n",
            "remote: Compressing objects: 100% (165/165), done.\u001b[K\n",
            "remote: Total 637 (delta 136), reused 184 (delta 109), pack-reused 363\u001b[K\n",
            "Receiving objects: 100% (637/637), 10.76 MiB | 10.62 MiB/s, done.\n",
            "Resolving deltas: 100% (321/321), done.\n"
          ]
        }
      ],
      "source": [
        "!git clone https://github.com/AnalyticsKnight/yemoonsaBigdata/"
      ]
    },
    {
      "cell_type": "code",
      "source": [
        "import pandas as pd\n",
        "df = pd.read_csv(\"/content/yemoonsaBigdata/datasets/Part3/501_trash_bag.csv\", encoding=\"euc-kr\")\n",
        "\n",
        "print(df.head())"
      ],
      "metadata": {
        "colab": {
          "base_uri": "https://localhost:8080/"
        },
        "id": "_fT8j730aSDC",
        "outputId": "711b6f73-609b-4d34-e75d-7e9db4d22f17"
      },
      "execution_count": null,
      "outputs": [
        {
          "output_type": "stream",
          "name": "stdout",
          "text": [
            "   시도명 시군구명       종류 처리방식      용도 사용대상  1L가격  1.5L가격  2L가격  2.5L가격  ...  5L가격  \\\n",
            "0  강원도  강릉시     규격봉투  매립용   생활쓰레기   기타     0       0     0       0  ...   130   \n",
            "1  강원도  강릉시  재사용규격봉투  매립용   생활쓰레기   기타     0       0     0       0  ...     0   \n",
            "2  강원도  고성군     규격봉투  소각용   생활쓰레기  가정용     0       0     0       0  ...   140   \n",
            "3  강원도  고성군     규격봉투  소각용  음식물쓰레기  가정용     0       0    60       0  ...   120   \n",
            "4  강원도  고성군   특수규격마대  매립용   생활쓰레기  가정용     0       0     0       0  ...     0   \n",
            "\n",
            "   10L가격  20L가격  30L가격  50L가격  60L가격  75L가격  100L가격  120L가격  125L가격  \n",
            "0    270    520      0   1250      0   1880       0       0       0  \n",
            "1    270    520      0      0      0      0       0       0       0  \n",
            "2    260    500      0   1220      0      0    2410       0       0  \n",
            "3      0      0      0      0      0      0       0       0       0  \n",
            "4      0      0      0   1540      0      0       0       0       0  \n",
            "\n",
            "[5 rows x 21 columns]\n"
          ]
        }
      ]
    },
    {
      "cell_type": "code",
      "source": [
        "print(df['용도'].unique())\n",
        "print(df['사용대상'].unique())"
      ],
      "metadata": {
        "colab": {
          "base_uri": "https://localhost:8080/"
        },
        "id": "GbTcnFksbtR1",
        "outputId": "16b6032f-0452-48f4-c176-5ba50abb0687"
      },
      "execution_count": null,
      "outputs": [
        {
          "output_type": "stream",
          "name": "stdout",
          "text": [
            "['생활쓰레기' '음식물쓰레기']\n",
            "['기타' '가정용' '사업장용' '영업용' '영업장용' '범용']\n"
          ]
        }
      ]
    },
    {
      "cell_type": "code",
      "source": [
        "df_ans = df[(df['용도']=='음식물쓰레기')&(df['사용대상'] =='가정용')]\n",
        "print(df_ans.head())"
      ],
      "metadata": {
        "colab": {
          "base_uri": "https://localhost:8080/"
        },
        "id": "6UHLgktjbtZF",
        "outputId": "2e359201-219a-42c0-a30c-0e828323ca30"
      },
      "execution_count": null,
      "outputs": [
        {
          "output_type": "stream",
          "name": "stdout",
          "text": [
            "    시도명 시군구명    종류 처리방식      용도 사용대상  1L가격  1.5L가격  2L가격  2.5L가격  ...  5L가격  \\\n",
            "3   강원도  고성군  규격봉투  소각용  음식물쓰레기  가정용     0       0    60       0  ...   120   \n",
            "8   강원도  삼척시  규격봉투  매립용  음식물쓰레기  가정용     0       0     0       0  ...    80   \n",
            "9   강원도  양구군  규격봉투  매립용  음식물쓰레기  가정용     0       0    50       0  ...   120   \n",
            "12  강원도  양양군  규격봉투   기타  음식물쓰레기  가정용     0       0    40       0  ...    90   \n",
            "16  강원도  영월군  규격봉투  매립용  음식물쓰레기  가정용     0       0     0       0  ...   110   \n",
            "\n",
            "    10L가격  20L가격  30L가격  50L가격  60L가격  75L가격  100L가격  120L가격  125L가격  \n",
            "3       0      0      0      0      0      0       0       0       0  \n",
            "8     150    290      0      0      0      0       0       0       0  \n",
            "9     210    400      0      0      0      0       0       0       0  \n",
            "12    170    340      0      0      0      0       0       0       0  \n",
            "16    180    350      0    900      0   1350       0       0       0  \n",
            "\n",
            "[5 rows x 21 columns]\n"
          ]
        }
      ]
    },
    {
      "cell_type": "code",
      "source": [
        "filter = df_ans[df_ans['2L가격'] !=0]\n",
        "print(int(filter['2L가격'].mean()))"
      ],
      "metadata": {
        "colab": {
          "base_uri": "https://localhost:8080/"
        },
        "id": "5VkCZkdIbtbJ",
        "outputId": "ac9f97e4-aed3-4e2f-b9c4-1e2cdbddb4b7"
      },
      "execution_count": null,
      "outputs": [
        {
          "output_type": "stream",
          "name": "stdout",
          "text": [
            "119\n"
          ]
        }
      ]
    },
    {
      "cell_type": "markdown",
      "source": [
        "######"
      ],
      "metadata": {
        "id": "VEt1Ki0lfb-j"
      }
    },
    {
      "cell_type": "code",
      "source": [
        "import pandas as pd\n",
        "\n",
        "df2 = pd.read_csv(\"/content/yemoonsaBigdata/datasets/Part3/502_bmi.csv\")\n",
        "print(df2.head())"
      ],
      "metadata": {
        "colab": {
          "base_uri": "https://localhost:8080/"
        },
        "id": "S8mFjWB9btfl",
        "outputId": "46100810-b498-4349-94bf-c03d53ce5804"
      },
      "execution_count": null,
      "outputs": [
        {
          "output_type": "stream",
          "name": "stdout",
          "text": [
            "   Gender  Height  Weight\n",
            "0    Male     174      96\n",
            "1    Male     189      87\n",
            "2  Female     185     110\n",
            "3  Female     195     104\n",
            "4    Male     149      61\n"
          ]
        }
      ]
    },
    {
      "cell_type": "code",
      "source": [
        "df2[\"Height_m\"] = df2[\"Height\"]/100\n",
        "df2[\"BMI\"] = df2[\"Weight\"]/(df2[\"Height_m\"]**2)\n",
        "print(df2.head())"
      ],
      "metadata": {
        "colab": {
          "base_uri": "https://localhost:8080/"
        },
        "id": "RFehEOPIbtdO",
        "outputId": "57053cb2-834f-4ee0-fde5-f22e9fc5260c"
      },
      "execution_count": null,
      "outputs": [
        {
          "output_type": "stream",
          "name": "stdout",
          "text": [
            "   Gender  Height  Weight  Height_m        BMI\n",
            "0    Male     174      96      1.74  31.708284\n",
            "1    Male     189      87      1.89  24.355421\n",
            "2  Female     185     110      1.85  32.140248\n",
            "3  Female     195     104      1.95  27.350427\n",
            "4    Male     149      61      1.49  27.476240\n"
          ]
        }
      ]
    },
    {
      "cell_type": "code",
      "source": [
        "normal = len(df2[(18.5 <= df2['BMI']) & (df2['BMI']< 23)])\n",
        "over = len(df2[(23 <= df2['BMI']) & (df2['BMI']< 25)])\n",
        "\n",
        "print(normal - over)"
      ],
      "metadata": {
        "colab": {
          "base_uri": "https://localhost:8080/"
        },
        "id": "wiK_6FX4gBMX",
        "outputId": "0680b4a6-7c12-4719-b015-eeeb0437b9ca"
      },
      "execution_count": null,
      "outputs": [
        {
          "output_type": "stream",
          "name": "stdout",
          "text": [
            "28\n"
          ]
        }
      ]
    },
    {
      "cell_type": "markdown",
      "source": [
        "####"
      ],
      "metadata": {
        "id": "itPuYRVEgu2u"
      }
    },
    {
      "cell_type": "code",
      "source": [
        "import pandas as pd\n",
        "\n",
        "df3 = pd.read_csv(\"/content/yemoonsaBigdata/datasets/Part3/503_students.csv\", encoding='euc-kr')\n",
        "print(df3.head())"
      ],
      "metadata": {
        "colab": {
          "base_uri": "https://localhost:8080/"
        },
        "id": "XD8E2a5mgBOY",
        "outputId": "fd92f576-a14a-427b-e6f0-0be256628dcf"
      },
      "execution_count": null,
      "outputs": [
        {
          "output_type": "stream",
          "name": "stdout",
          "text": [
            "  학교  학년  총 전입학생  총 전출학생  전체 학생 수\n",
            "0  A   1       9       1      222\n",
            "1  A   2      13       4      148\n",
            "2  A   3       8       7      196\n",
            "3  B   1       7       5      171\n",
            "4  B   2       9       1      216\n"
          ]
        }
      ]
    },
    {
      "cell_type": "code",
      "source": [
        "df3['순전입학생수'] = df3['총 전입학생'] - df3['총 전출학생']\n",
        "\n",
        "print(df3.head())"
      ],
      "metadata": {
        "colab": {
          "base_uri": "https://localhost:8080/"
        },
        "id": "RuLUv70_gBQt",
        "outputId": "c61c38bd-798a-4889-93d9-774751760a17"
      },
      "execution_count": null,
      "outputs": [
        {
          "output_type": "stream",
          "name": "stdout",
          "text": [
            "  학교  학년  총 전입학생  총 전출학생  전체 학생 수  순전입학생수\n",
            "0  A   1       9       1      222       8\n",
            "1  A   2      13       4      148       9\n",
            "2  A   3       8       7      196       1\n",
            "3  B   1       7       5      171       2\n",
            "4  B   2       9       1      216       8\n"
          ]
        }
      ]
    },
    {
      "cell_type": "code",
      "source": [
        "df_group = df3.groupby(['학교'])['순전입학생수', '전체 학생 수'].sum()\n",
        "print(df_group)"
      ],
      "metadata": {
        "colab": {
          "base_uri": "https://localhost:8080/"
        },
        "id": "O9O9ZoJZgBSz",
        "outputId": "07cc65cf-bf53-4f05-eb29-3af928b28178"
      },
      "execution_count": null,
      "outputs": [
        {
          "output_type": "stream",
          "name": "stdout",
          "text": [
            "    순전입학생수  전체 학생 수\n",
            "학교                 \n",
            "A       18      566\n",
            "B       13      588\n",
            "C       -9      528\n",
            "D        7      548\n",
            "E       14      603\n",
            "F        1      481\n",
            "G       10      618\n",
            "H       -1      602\n"
          ]
        },
        {
          "output_type": "stream",
          "name": "stderr",
          "text": [
            "<ipython-input-47-23c465a95d28>:1: FutureWarning: Indexing with multiple keys (implicitly converted to a tuple of keys) will be deprecated, use a list instead.\n",
            "  df_group = df3.groupby(['학교'])['순전입학생수', '전체 학생 수'].sum()\n"
          ]
        }
      ]
    },
    {
      "cell_type": "code",
      "source": [
        "df_sort = df_group.sort_values(\"순전입학생수\", ascending = False)\n",
        "print(df_sort)"
      ],
      "metadata": {
        "colab": {
          "base_uri": "https://localhost:8080/"
        },
        "id": "vXKZoGF2gBU4",
        "outputId": "1d243700-3105-4255-b0ad-5d19f79ce3cb"
      },
      "execution_count": null,
      "outputs": [
        {
          "output_type": "stream",
          "name": "stdout",
          "text": [
            "    순전입학생수  전체 학생 수\n",
            "학교                 \n",
            "A       18      566\n",
            "E       14      603\n",
            "B       13      588\n",
            "G       10      618\n",
            "D        7      548\n",
            "F        1      481\n",
            "H       -1      602\n",
            "C       -9      528\n"
          ]
        }
      ]
    },
    {
      "cell_type": "markdown",
      "source": [
        "#######"
      ],
      "metadata": {
        "id": "9Qrk1Nksi7ew"
      }
    },
    {
      "cell_type": "code",
      "source": [
        "import pandas as pd\n",
        "\n",
        "X_train = pd.read_csv(\"yemoonsaBigdata/datasets/Part3/504_x_train.csv\")\n",
        "X_test = pd.read_csv(\"yemoonsaBigdata/datasets/Part3/504_x_test.csv\")\n",
        "y_train = pd.read_csv(\"yemoonsaBigdata/datasets/Part3/504_y_train.csv\")\n"
      ],
      "metadata": {
        "id": "xPz-wjbOgBWt"
      },
      "execution_count": null,
      "outputs": []
    },
    {
      "cell_type": "code",
      "source": [
        "print(X_train.head())"
      ],
      "metadata": {
        "colab": {
          "base_uri": "https://localhost:8080/"
        },
        "id": "rGxcX94Pi9cl",
        "outputId": "26254015-edd3-461c-8fb1-03edbcbc3b89"
      },
      "execution_count": null,
      "outputs": [
        {
          "output_type": "stream",
          "name": "stdout",
          "text": [
            "   id model  year transmission  mileage fuelType  tax   mpg  engineSize\n",
            "0   1    A1  2019    Automatic     3500   Petrol  145  40.9         2.0\n",
            "1   2   RS4  2020    Semi-Auto     2500   Petrol  145  28.8         2.9\n",
            "2   3    A8  2019    Semi-Auto      500   Diesel  145  40.4         3.0\n",
            "3   4    Q5  2019    Semi-Auto     5089   Diesel  150  38.2         2.0\n",
            "4   5    A5  2020    Semi-Auto     4951   Diesel  145  51.4         2.0\n"
          ]
        }
      ]
    },
    {
      "cell_type": "code",
      "source": [
        "print(X_test.head())"
      ],
      "metadata": {
        "colab": {
          "base_uri": "https://localhost:8080/"
        },
        "id": "zZKkNwIsi9e3",
        "outputId": "3c0d0ee4-fd6d-4d06-c2e4-bcc053bd1d09"
      },
      "execution_count": null,
      "outputs": [
        {
          "output_type": "stream",
          "name": "stdout",
          "text": [
            "     id model  year transmission  mileage fuelType  tax   mpg  engineSize\n",
            "0  7469    A4  2020    Semi-Auto     4000   Diesel  145  54.3         3.0\n",
            "1  7470    A6  2016       Manual    31300   Diesel   30  61.4         2.0\n",
            "2  7471    Q5  2019    Semi-Auto    11296   Diesel  150  38.2         2.0\n",
            "3  7472    A1  2018       Manual     6500   Petrol  145  55.4         1.4\n",
            "4  7473    A3  2016       Manual    31524   Petrol   30  60.1         1.4\n"
          ]
        }
      ]
    },
    {
      "cell_type": "code",
      "source": [
        "print(y_train.head())"
      ],
      "metadata": {
        "colab": {
          "base_uri": "https://localhost:8080/"
        },
        "id": "FQRuWLQyi9g9",
        "outputId": "2b436e09-b5f8-437d-93c4-af8d7ee910c5"
      },
      "execution_count": null,
      "outputs": [
        {
          "output_type": "stream",
          "name": "stdout",
          "text": [
            "   id  price\n",
            "0   1  21350\n",
            "1   2  69691\n",
            "2   3  42950\n",
            "3   4  31470\n",
            "4   5  27495\n"
          ]
        }
      ]
    },
    {
      "cell_type": "code",
      "source": [
        "#데이터 전처리\n",
        "\n",
        "print(X_train.info())"
      ],
      "metadata": {
        "colab": {
          "base_uri": "https://localhost:8080/"
        },
        "id": "v4HzqGn-i9jD",
        "outputId": "787683de-cdda-409c-c69b-c1ec3639ff79"
      },
      "execution_count": null,
      "outputs": [
        {
          "output_type": "stream",
          "name": "stdout",
          "text": [
            "<class 'pandas.core.frame.DataFrame'>\n",
            "RangeIndex: 7468 entries, 0 to 7467\n",
            "Data columns (total 9 columns):\n",
            " #   Column        Non-Null Count  Dtype  \n",
            "---  ------        --------------  -----  \n",
            " 0   id            7468 non-null   int64  \n",
            " 1   model         7468 non-null   object \n",
            " 2   year          7468 non-null   int64  \n",
            " 3   transmission  7468 non-null   object \n",
            " 4   mileage       7468 non-null   int64  \n",
            " 5   fuelType      7468 non-null   object \n",
            " 6   tax           7468 non-null   int64  \n",
            " 7   mpg           7468 non-null   float64\n",
            " 8   engineSize    7468 non-null   float64\n",
            "dtypes: float64(2), int64(4), object(3)\n",
            "memory usage: 525.2+ KB\n",
            "None\n"
          ]
        }
      ]
    },
    {
      "cell_type": "code",
      "source": [
        "print(X_train.isnull().sum())"
      ],
      "metadata": {
        "colab": {
          "base_uri": "https://localhost:8080/"
        },
        "id": "0nnw-mKCi9lJ",
        "outputId": "e6d047cf-46a4-4718-c70f-bbf6d98b0e5c"
      },
      "execution_count": null,
      "outputs": [
        {
          "output_type": "stream",
          "name": "stdout",
          "text": [
            "id              0\n",
            "model           0\n",
            "year            0\n",
            "transmission    0\n",
            "mileage         0\n",
            "fuelType        0\n",
            "tax             0\n",
            "mpg             0\n",
            "engineSize      0\n",
            "dtype: int64\n"
          ]
        }
      ]
    },
    {
      "cell_type": "code",
      "source": [
        "print(X_test.isnull().sum())"
      ],
      "metadata": {
        "colab": {
          "base_uri": "https://localhost:8080/"
        },
        "id": "W0w7RLbSjtU2",
        "outputId": "8a09a7e1-3c14-4e90-8d61-1fc816b6df2f"
      },
      "execution_count": null,
      "outputs": [
        {
          "output_type": "stream",
          "name": "stdout",
          "text": [
            "id              0\n",
            "model           0\n",
            "year            0\n",
            "transmission    0\n",
            "mileage         0\n",
            "fuelType        0\n",
            "tax             0\n",
            "mpg             0\n",
            "engineSize      0\n",
            "dtype: int64\n"
          ]
        }
      ]
    },
    {
      "cell_type": "code",
      "source": [
        "print(y_train.isnull().sum())"
      ],
      "metadata": {
        "colab": {
          "base_uri": "https://localhost:8080/"
        },
        "id": "kKeOk-dfjtXc",
        "outputId": "29d6851d-ed1e-450b-a23e-d069731d0492"
      },
      "execution_count": null,
      "outputs": [
        {
          "output_type": "stream",
          "name": "stdout",
          "text": [
            "id       0\n",
            "price    0\n",
            "dtype: int64\n"
          ]
        }
      ]
    },
    {
      "cell_type": "code",
      "source": [
        "#불필요한 변수 / 수치형 변수/ 범주형 변수/ 종속 변수 price\n",
        "\n",
        "col_del = ['id']\n",
        "col_num = ['year', 'mileage', 'mpg', 'engineSize']\n",
        "col_cat = ['model', 'transmission', 'fuelType']\n",
        "col_y = ['price']"
      ],
      "metadata": {
        "id": "_m7Uone1j1yS"
      },
      "execution_count": null,
      "outputs": []
    },
    {
      "cell_type": "code",
      "source": [
        "#검증형 데이터 분리\n",
        "from sklearn.model_selection import train_test_split\n",
        "X_tr, X_val, y_tr, y_val = train_test_split(X_train[col_num + col_cat],\n",
        "                                            y_train[col_y].values.ravel(),\n",
        "                                            test_size = 0.3)"
      ],
      "metadata": {
        "id": "nW1c1Bapj10V"
      },
      "execution_count": null,
      "outputs": []
    },
    {
      "cell_type": "code",
      "source": [
        "print(y_tr)"
      ],
      "metadata": {
        "colab": {
          "base_uri": "https://localhost:8080/"
        },
        "id": "iAOMiJlYj12r",
        "outputId": "57a0a6eb-baa2-45b8-e75f-7959f93a2ae8"
      },
      "execution_count": null,
      "outputs": [
        {
          "output_type": "stream",
          "name": "stdout",
          "text": [
            "[22750 19490  6800 ... 22782 56990 17298]\n"
          ]
        }
      ]
    },
    {
      "cell_type": "code",
      "source": [
        "#수치형 변수 - 데이터 스케일링\n",
        "import sklearn\n",
        "dir(sklearn.preprocessing)"
      ],
      "metadata": {
        "colab": {
          "base_uri": "https://localhost:8080/"
        },
        "id": "LKemHRi4j17X",
        "outputId": "5e25f482-da00-49fd-d97a-f842e5a129ae"
      },
      "execution_count": null,
      "outputs": [
        {
          "output_type": "execute_result",
          "data": {
            "text/plain": [
              "['Binarizer',\n",
              " 'FunctionTransformer',\n",
              " 'KBinsDiscretizer',\n",
              " 'KernelCenterer',\n",
              " 'LabelBinarizer',\n",
              " 'LabelEncoder',\n",
              " 'MaxAbsScaler',\n",
              " 'MinMaxScaler',\n",
              " 'MultiLabelBinarizer',\n",
              " 'Normalizer',\n",
              " 'OneHotEncoder',\n",
              " 'OrdinalEncoder',\n",
              " 'PolynomialFeatures',\n",
              " 'PowerTransformer',\n",
              " 'QuantileTransformer',\n",
              " 'RobustScaler',\n",
              " 'SplineTransformer',\n",
              " 'StandardScaler',\n",
              " '__all__',\n",
              " '__builtins__',\n",
              " '__cached__',\n",
              " '__doc__',\n",
              " '__file__',\n",
              " '__loader__',\n",
              " '__name__',\n",
              " '__package__',\n",
              " '__path__',\n",
              " '__spec__',\n",
              " '_csr_polynomial_expansion',\n",
              " '_data',\n",
              " '_discretization',\n",
              " '_encoders',\n",
              " '_function_transformer',\n",
              " '_label',\n",
              " '_polynomial',\n",
              " 'add_dummy_feature',\n",
              " 'binarize',\n",
              " 'label_binarize',\n",
              " 'maxabs_scale',\n",
              " 'minmax_scale',\n",
              " 'normalize',\n",
              " 'power_transform',\n",
              " 'quantile_transform',\n",
              " 'robust_scale',\n",
              " 'scale']"
            ]
          },
          "metadata": {},
          "execution_count": 71
        }
      ]
    },
    {
      "cell_type": "code",
      "source": [
        "from sklearn.preprocessing import StandardScaler\n",
        "#데이터 표준화\n",
        "scaler = StandardScaler()\n",
        "scaler.fit(X_tr[col_num])\n",
        "\n",
        "# help(sklearn.preprocessing.StandardScaler)\n",
        "\n",
        "X_tr[col_num] = scaler.transform(X_tr[col_num])\n",
        "X_test[col_num] = scaler.transform(X_test[col_num])\n",
        "X_val[col_num] = scaler.transform(X_val[col_num])\n"
      ],
      "metadata": {
        "id": "pbtBXdj4lOew"
      },
      "execution_count": null,
      "outputs": []
    },
    {
      "cell_type": "code",
      "source": [
        "#범주형 변수 - 인코딩\n",
        "\n",
        "from sklearn.preprocessing import LabelEncoder\n",
        "\n",
        "X_tr[col_cat] = X_tr[col_cat].apply(LabelEncoder().fit_transform)\n",
        "X_val[col_cat] = X_val[col_cat].apply(LabelEncoder().fit_transform)\n",
        "X_test[col_cat] = X_test[col_cat].apply(LabelEncoder().fit_transform)\n"
      ],
      "metadata": {
        "id": "jOMQwWi6lOYj"
      },
      "execution_count": null,
      "outputs": []
    },
    {
      "cell_type": "code",
      "source": [
        "# help(sklearn.preprocessing.LabelEncoder)"
      ],
      "metadata": {
        "id": "dBTr551goUCO"
      },
      "execution_count": null,
      "outputs": []
    },
    {
      "cell_type": "code",
      "source": [
        "print(X_tr.head())"
      ],
      "metadata": {
        "colab": {
          "base_uri": "https://localhost:8080/"
        },
        "id": "pbufRDULoUER",
        "outputId": "f578e2ab-3a76-4b26-dce3-e39616ac7e8b"
      },
      "execution_count": null,
      "outputs": [
        {
          "output_type": "stream",
          "name": "stdout",
          "text": [
            "          year   mileage       mpg  engineSize  model  transmission  fuelType\n",
            "4192 -0.030409  0.351348  0.606302    0.131849      8             0         0\n",
            "6820 -0.030409  1.129276  0.024969    0.131849      9             2         0\n",
            "4786 -1.878616  1.580137  1.799972   -0.545974      0             1         0\n",
            "5727 -1.878616  0.260321 -0.114551   -0.207062      3             1         2\n",
            "900  -2.340668  3.016432 -0.998177    1.826408     11             0         0\n"
          ]
        }
      ]
    },
    {
      "cell_type": "code",
      "source": [
        "#랜덤포레스트\n",
        "\n",
        "from sklearn.ensemble import RandomForestRegressor\n",
        "\n",
        "model1 = RandomForestRegressor(random_state =123, n_estimators =100, max_depth=10)\n",
        "model1.fit(X_tr, y_tr)"
      ],
      "metadata": {
        "colab": {
          "base_uri": "https://localhost:8080/",
          "height": 75
        },
        "id": "L-M8JWSnoUGn",
        "outputId": "afe3d9e0-bc97-4a6d-d8c2-8dc1aabc50ba"
      },
      "execution_count": null,
      "outputs": [
        {
          "output_type": "execute_result",
          "data": {
            "text/plain": [
              "RandomForestRegressor(max_depth=10, random_state=123)"
            ],
            "text/html": [
              "<style>#sk-container-id-7 {color: black;background-color: white;}#sk-container-id-7 pre{padding: 0;}#sk-container-id-7 div.sk-toggleable {background-color: white;}#sk-container-id-7 label.sk-toggleable__label {cursor: pointer;display: block;width: 100%;margin-bottom: 0;padding: 0.3em;box-sizing: border-box;text-align: center;}#sk-container-id-7 label.sk-toggleable__label-arrow:before {content: \"▸\";float: left;margin-right: 0.25em;color: #696969;}#sk-container-id-7 label.sk-toggleable__label-arrow:hover:before {color: black;}#sk-container-id-7 div.sk-estimator:hover label.sk-toggleable__label-arrow:before {color: black;}#sk-container-id-7 div.sk-toggleable__content {max-height: 0;max-width: 0;overflow: hidden;text-align: left;background-color: #f0f8ff;}#sk-container-id-7 div.sk-toggleable__content pre {margin: 0.2em;color: black;border-radius: 0.25em;background-color: #f0f8ff;}#sk-container-id-7 input.sk-toggleable__control:checked~div.sk-toggleable__content {max-height: 200px;max-width: 100%;overflow: auto;}#sk-container-id-7 input.sk-toggleable__control:checked~label.sk-toggleable__label-arrow:before {content: \"▾\";}#sk-container-id-7 div.sk-estimator input.sk-toggleable__control:checked~label.sk-toggleable__label {background-color: #d4ebff;}#sk-container-id-7 div.sk-label input.sk-toggleable__control:checked~label.sk-toggleable__label {background-color: #d4ebff;}#sk-container-id-7 input.sk-hidden--visually {border: 0;clip: rect(1px 1px 1px 1px);clip: rect(1px, 1px, 1px, 1px);height: 1px;margin: -1px;overflow: hidden;padding: 0;position: absolute;width: 1px;}#sk-container-id-7 div.sk-estimator {font-family: monospace;background-color: #f0f8ff;border: 1px dotted black;border-radius: 0.25em;box-sizing: border-box;margin-bottom: 0.5em;}#sk-container-id-7 div.sk-estimator:hover {background-color: #d4ebff;}#sk-container-id-7 div.sk-parallel-item::after {content: \"\";width: 100%;border-bottom: 1px solid gray;flex-grow: 1;}#sk-container-id-7 div.sk-label:hover label.sk-toggleable__label {background-color: #d4ebff;}#sk-container-id-7 div.sk-serial::before {content: \"\";position: absolute;border-left: 1px solid gray;box-sizing: border-box;top: 0;bottom: 0;left: 50%;z-index: 0;}#sk-container-id-7 div.sk-serial {display: flex;flex-direction: column;align-items: center;background-color: white;padding-right: 0.2em;padding-left: 0.2em;position: relative;}#sk-container-id-7 div.sk-item {position: relative;z-index: 1;}#sk-container-id-7 div.sk-parallel {display: flex;align-items: stretch;justify-content: center;background-color: white;position: relative;}#sk-container-id-7 div.sk-item::before, #sk-container-id-7 div.sk-parallel-item::before {content: \"\";position: absolute;border-left: 1px solid gray;box-sizing: border-box;top: 0;bottom: 0;left: 50%;z-index: -1;}#sk-container-id-7 div.sk-parallel-item {display: flex;flex-direction: column;z-index: 1;position: relative;background-color: white;}#sk-container-id-7 div.sk-parallel-item:first-child::after {align-self: flex-end;width: 50%;}#sk-container-id-7 div.sk-parallel-item:last-child::after {align-self: flex-start;width: 50%;}#sk-container-id-7 div.sk-parallel-item:only-child::after {width: 0;}#sk-container-id-7 div.sk-dashed-wrapped {border: 1px dashed gray;margin: 0 0.4em 0.5em 0.4em;box-sizing: border-box;padding-bottom: 0.4em;background-color: white;}#sk-container-id-7 div.sk-label label {font-family: monospace;font-weight: bold;display: inline-block;line-height: 1.2em;}#sk-container-id-7 div.sk-label-container {text-align: center;}#sk-container-id-7 div.sk-container {/* jupyter's `normalize.less` sets `[hidden] { display: none; }` but bootstrap.min.css set `[hidden] { display: none !important; }` so we also need the `!important` here to be able to override the default hidden behavior on the sphinx rendered scikit-learn.org. See: https://github.com/scikit-learn/scikit-learn/issues/21755 */display: inline-block !important;position: relative;}#sk-container-id-7 div.sk-text-repr-fallback {display: none;}</style><div id=\"sk-container-id-7\" class=\"sk-top-container\"><div class=\"sk-text-repr-fallback\"><pre>RandomForestRegressor(max_depth=10, random_state=123)</pre><b>In a Jupyter environment, please rerun this cell to show the HTML representation or trust the notebook. <br />On GitHub, the HTML representation is unable to render, please try loading this page with nbviewer.org.</b></div><div class=\"sk-container\" hidden><div class=\"sk-item\"><div class=\"sk-estimator sk-toggleable\"><input class=\"sk-toggleable__control sk-hidden--visually\" id=\"sk-estimator-id-7\" type=\"checkbox\" checked><label for=\"sk-estimator-id-7\" class=\"sk-toggleable__label sk-toggleable__label-arrow\">RandomForestRegressor</label><div class=\"sk-toggleable__content\"><pre>RandomForestRegressor(max_depth=10, random_state=123)</pre></div></div></div></div></div>"
            ]
          },
          "metadata": {},
          "execution_count": 105
        }
      ]
    },
    {
      "cell_type": "code",
      "source": [
        "#모형 평가\n",
        "pred = model1.predict(X_val)\n",
        "pred"
      ],
      "metadata": {
        "colab": {
          "base_uri": "https://localhost:8080/"
        },
        "id": "5u8BLFLZpmEI",
        "outputId": "31f965bd-5f89-4b78-ab34-a3905dc912d0"
      },
      "execution_count": null,
      "outputs": [
        {
          "output_type": "execute_result",
          "data": {
            "text/plain": [
              "array([25118.67652413, 26169.84523604, 32233.39119266, ...,\n",
              "       23129.1464518 , 25796.54414705, 12994.81078694])"
            ]
          },
          "metadata": {},
          "execution_count": 106
        }
      ]
    },
    {
      "cell_type": "code",
      "source": [
        "#rmse 사용\n",
        "\n",
        "from sklearn.metrics import mean_squared_error"
      ],
      "metadata": {
        "id": "OGQx6Tr5pmGM"
      },
      "execution_count": null,
      "outputs": []
    },
    {
      "cell_type": "code",
      "source": [
        "# dir(sklearn)"
      ],
      "metadata": {
        "id": "xdNCPLgMpmIR"
      },
      "execution_count": null,
      "outputs": []
    },
    {
      "cell_type": "code",
      "source": [
        "import numpy as np\n",
        "\n",
        "answer = np.sqrt(mean_squared_error(y_val, pred))\n",
        "\n",
        "print(answer)"
      ],
      "metadata": {
        "colab": {
          "base_uri": "https://localhost:8080/"
        },
        "id": "w79XZlZzpmM9",
        "outputId": "9d8f4f32-5a09-4276-aad5-34c4403b8169"
      },
      "execution_count": null,
      "outputs": [
        {
          "output_type": "stream",
          "name": "stdout",
          "text": [
            "3310.4379706733575\n"
          ]
        }
      ]
    },
    {
      "cell_type": "code",
      "source": [
        "from sklearn.linear_model import LinearRegression\n",
        "model2 = LinearRegression()\n",
        "model2.fit(X_tr, y_tr)\n",
        "pred2 = model2.predict(X_val)\n",
        "pred2"
      ],
      "metadata": {
        "colab": {
          "base_uri": "https://localhost:8080/"
        },
        "id": "dYoLHoz5q0nu",
        "outputId": "46b20108-f432-4418-f81e-62a6e65a7563"
      },
      "execution_count": null,
      "outputs": [
        {
          "output_type": "execute_result",
          "data": {
            "text/plain": [
              "array([26750.95278585, 27927.96479708, 34430.78073793, ...,\n",
              "       29327.08893365, 26166.07854752, 19041.40380693])"
            ]
          },
          "metadata": {},
          "execution_count": 111
        }
      ]
    },
    {
      "cell_type": "code",
      "source": [
        "# answer2 = np.sqrt(mean_squared_error(y_val, pred2))\n"
      ],
      "metadata": {
        "colab": {
          "base_uri": "https://localhost:8080/"
        },
        "id": "IR9UYWH9q0pw",
        "outputId": "f438b153-f740-4e31-986d-4bcd8735ceac"
      },
      "execution_count": null,
      "outputs": [
        {
          "output_type": "execute_result",
          "data": {
            "text/plain": [
              "5629.946941379967"
            ]
          },
          "metadata": {},
          "execution_count": 114
        }
      ]
    },
    {
      "cell_type": "code",
      "source": [
        "ans = model1.predict(X_test[col_num + col_cat])\n",
        "result = pd.DataFrame({'id':X_test.id, 'price':  ans})\n",
        "print(result.head())"
      ],
      "metadata": {
        "colab": {
          "base_uri": "https://localhost:8080/"
        },
        "id": "ubuwusVbq0sH",
        "outputId": "2bc1f023-8dc5-48b1-8394-2b1f64a622aa"
      },
      "execution_count": null,
      "outputs": [
        {
          "output_type": "stream",
          "name": "stdout",
          "text": [
            "     id         price\n",
            "0  7469  30493.406346\n",
            "1  7470  17238.860257\n",
            "2  7471  32052.296532\n",
            "3  7472  15733.794199\n",
            "4  7473  12298.501838\n"
          ]
        }
      ]
    },
    {
      "cell_type": "code",
      "source": [
        "result.to_csv('0003.csv', index=False)"
      ],
      "metadata": {
        "id": "FO9tInzRsmvz"
      },
      "execution_count": null,
      "outputs": []
    },
    {
      "cell_type": "code",
      "source": [
        "print(pd.read_csv('0003.csv').head())"
      ],
      "metadata": {
        "colab": {
          "base_uri": "https://localhost:8080/"
        },
        "id": "8iaNu4AVsrQ1",
        "outputId": "5893ac88-3839-4d1b-b19f-cae85af24837"
      },
      "execution_count": null,
      "outputs": [
        {
          "output_type": "stream",
          "name": "stdout",
          "text": [
            "     id         price\n",
            "0  7469  30493.406346\n",
            "1  7470  17238.860257\n",
            "2  7471  32052.296532\n",
            "3  7472  15733.794199\n",
            "4  7473  12298.501838\n"
          ]
        }
      ]
    },
    {
      "cell_type": "markdown",
      "source": [
        "2022.4회\n",
        "작업형 1"
      ],
      "metadata": {
        "id": "uwzMFUtZs9RL"
      }
    },
    {
      "cell_type": "code",
      "source": [
        "lst = [2,3,3.2,5,7.5,10,11.8,12,23,25,31.5,34]"
      ],
      "metadata": {
        "id": "NsWqDD5us5cL"
      },
      "execution_count": null,
      "outputs": []
    },
    {
      "cell_type": "code",
      "source": [
        "import pandas as pd\n",
        "import numpy as np\n",
        "\n",
        "np.quantile(lst, 0.25)\n"
      ],
      "metadata": {
        "colab": {
          "base_uri": "https://localhost:8080/"
        },
        "id": "5XZaWRRws5ee",
        "outputId": "2fbceea4-db7d-47da-8577-9e6eea194ddd"
      },
      "execution_count": null,
      "outputs": [
        {
          "output_type": "execute_result",
          "data": {
            "text/plain": [
              "4.55"
            ]
          },
          "metadata": {},
          "execution_count": 128
        }
      ]
    },
    {
      "cell_type": "code",
      "source": [
        "np.quantile(lst, 0.75)"
      ],
      "metadata": {
        "colab": {
          "base_uri": "https://localhost:8080/"
        },
        "id": "YmpCTRTps5gj",
        "outputId": "911043b4-2ecf-4469-f4f4-6631a3772d78"
      },
      "execution_count": null,
      "outputs": [
        {
          "output_type": "execute_result",
          "data": {
            "text/plain": [
              "23.5"
            ]
          },
          "metadata": {},
          "execution_count": 129
        }
      ]
    },
    {
      "cell_type": "code",
      "source": [
        "int(abs(np.quantile(lst, 0.25) - np.quantile(lst, 0.75)))"
      ],
      "metadata": {
        "colab": {
          "base_uri": "https://localhost:8080/"
        },
        "id": "8AjxmmxQs5i5",
        "outputId": "e4676859-66a1-4100-8eb6-c27232a1e56e"
      },
      "execution_count": null,
      "outputs": [
        {
          "output_type": "execute_result",
          "data": {
            "text/plain": [
              "18"
            ]
          },
          "metadata": {},
          "execution_count": 131
        }
      ]
    },
    {
      "cell_type": "code",
      "source": [
        "##2.\n",
        "import pandas as pd\n",
        "\n",
        "df4 = pd.read_csv(\"/content/yemoonsaBigdata/datasets/Part3/402_facebook.csv\")\n",
        "print(df4.head())"
      ],
      "metadata": {
        "colab": {
          "base_uri": "https://localhost:8080/"
        },
        "id": "mwBulj0wtvVG",
        "outputId": "09dab3b7-1748-48af-ec88-b6aca8c07be5"
      },
      "execution_count": null,
      "outputs": [
        {
          "output_type": "stream",
          "name": "stdout",
          "text": [
            "                          status_id status_type  num_reactions  num_comments  \\\n",
            "0  246675545449582_1649696485147474       video            529           512   \n",
            "1  246675545449582_1649426988507757       photo            150             0   \n",
            "2  246675545449582_1648730588577397       video            227           236   \n",
            "3  246675545449582_1648576705259452       photo            111             0   \n",
            "4  246675545449582_1645700502213739       photo            213             0   \n",
            "\n",
            "   num_shares  num_likes  num_loves  num_wows  num_hahas  num_sads  num_angrys  \n",
            "0         262        432         92         3          1         1           0  \n",
            "1           0        150          0         0          0         0           0  \n",
            "2          57        204         21         1          1         0           0  \n",
            "3           0        111          0         0          0         0           0  \n",
            "4           0        204          9         0          0         0           0  \n"
          ]
        }
      ]
    },
    {
      "cell_type": "code",
      "source": [
        "num_positive = df4['num_loves'] + df4['num_wows']\n",
        "num_positive"
      ],
      "metadata": {
        "colab": {
          "base_uri": "https://localhost:8080/"
        },
        "id": "lBgZ8f6Btxih",
        "outputId": "cd02a24d-e951-4a90-be2e-e059872c8513"
      },
      "execution_count": null,
      "outputs": [
        {
          "output_type": "execute_result",
          "data": {
            "text/plain": [
              "0       95\n",
              "1        0\n",
              "2       22\n",
              "3        0\n",
              "4        9\n",
              "        ..\n",
              "7045     0\n",
              "7046     1\n",
              "7047     1\n",
              "7048     2\n",
              "7049     0\n",
              "Length: 7050, dtype: int64"
            ]
          },
          "metadata": {},
          "execution_count": 135
        }
      ]
    },
    {
      "cell_type": "code",
      "source": [
        "df4['num_rate'] = num_positive / df4['num_reactions']"
      ],
      "metadata": {
        "id": "w3IMfIlYtxkS"
      },
      "execution_count": null,
      "outputs": []
    },
    {
      "cell_type": "code",
      "source": [
        "len(df4[(df4['num_rate'] < 0.5) & (df4['num_rate'] > 0.4) & (df4['status_type'] =='video')])\n"
      ],
      "metadata": {
        "colab": {
          "base_uri": "https://localhost:8080/"
        },
        "id": "Ssan3_qytvXa",
        "outputId": "b776ccea-0741-4ac4-f8fe-3603e1c70e90"
      },
      "execution_count": null,
      "outputs": [
        {
          "output_type": "execute_result",
          "data": {
            "text/plain": [
              "90"
            ]
          },
          "metadata": {},
          "execution_count": 145
        }
      ]
    },
    {
      "cell_type": "markdown",
      "source": [
        "#####"
      ],
      "metadata": {
        "id": "1o4DmVKOs9Ty"
      }
    },
    {
      "cell_type": "code",
      "source": [
        "import pandas as pd\n",
        "\n",
        "df5 = pd.read_csv(\"/content/yemoonsaBigdata/datasets/Part3/403_netflix.csv\")\n",
        "df5.head()"
      ],
      "metadata": {
        "colab": {
          "base_uri": "https://localhost:8080/",
          "height": 389
        },
        "id": "fKbf7qXptvZP",
        "outputId": "de97bbb7-886f-4933-e145-24a7041419f1"
      },
      "execution_count": null,
      "outputs": [
        {
          "output_type": "execute_result",
          "data": {
            "text/plain": [
              "  show_id     type                  title         director  \\\n",
              "0      s1    Movie   Dick Johnson Is Dead  Kirsten Johnson   \n",
              "1      s2  TV Show          Blood & Water              NaN   \n",
              "2      s3  TV Show              Ganglands  Julien Leclercq   \n",
              "3      s4  TV Show  Jailbirds New Orleans              NaN   \n",
              "4      s5  TV Show           Kota Factory              NaN   \n",
              "\n",
              "                                                cast        country  \\\n",
              "0                                                NaN  United States   \n",
              "1  Ama Qamata, Khosi Ngema, Gail Mabalane, Thaban...   South Africa   \n",
              "2  Sami Bouajila, Tracy Gotoas, Samuel Jouy, Nabi...            NaN   \n",
              "3                                                NaN            NaN   \n",
              "4  Mayur More, Jitendra Kumar, Ranjan Raj, Alam K...          India   \n",
              "\n",
              "           date_added  release_year rating   duration  \\\n",
              "0  September 25, 2021          2020  PG-13     90 min   \n",
              "1  September 24, 2021          2021  TV-MA  2 Seasons   \n",
              "2  September 24, 2021          2021  TV-MA   1 Season   \n",
              "3  September 24, 2021          2021  TV-MA   1 Season   \n",
              "4  September 24, 2021          2021  TV-MA  2 Seasons   \n",
              "\n",
              "                                           listed_in  \\\n",
              "0                                      Documentaries   \n",
              "1    International TV Shows, TV Dramas, TV Mysteries   \n",
              "2  Crime TV Shows, International TV Shows, TV Act...   \n",
              "3                             Docuseries, Reality TV   \n",
              "4  International TV Shows, Romantic TV Shows, TV ...   \n",
              "\n",
              "                                         description  \n",
              "0  As her father nears the end of his life, filmm...  \n",
              "1  After crossing paths at a party, a Cape Town t...  \n",
              "2  To protect his family from a powerful drug lor...  \n",
              "3  Feuds, flirtations and toilet talk go down amo...  \n",
              "4  In a city of coaching centers known to train I...  "
            ],
            "text/html": [
              "\n",
              "  <div id=\"df-f2ab3282-7a27-4a67-8cf9-1f00d2b421ef\">\n",
              "    <div class=\"colab-df-container\">\n",
              "      <div>\n",
              "<style scoped>\n",
              "    .dataframe tbody tr th:only-of-type {\n",
              "        vertical-align: middle;\n",
              "    }\n",
              "\n",
              "    .dataframe tbody tr th {\n",
              "        vertical-align: top;\n",
              "    }\n",
              "\n",
              "    .dataframe thead th {\n",
              "        text-align: right;\n",
              "    }\n",
              "</style>\n",
              "<table border=\"1\" class=\"dataframe\">\n",
              "  <thead>\n",
              "    <tr style=\"text-align: right;\">\n",
              "      <th></th>\n",
              "      <th>show_id</th>\n",
              "      <th>type</th>\n",
              "      <th>title</th>\n",
              "      <th>director</th>\n",
              "      <th>cast</th>\n",
              "      <th>country</th>\n",
              "      <th>date_added</th>\n",
              "      <th>release_year</th>\n",
              "      <th>rating</th>\n",
              "      <th>duration</th>\n",
              "      <th>listed_in</th>\n",
              "      <th>description</th>\n",
              "    </tr>\n",
              "  </thead>\n",
              "  <tbody>\n",
              "    <tr>\n",
              "      <th>0</th>\n",
              "      <td>s1</td>\n",
              "      <td>Movie</td>\n",
              "      <td>Dick Johnson Is Dead</td>\n",
              "      <td>Kirsten Johnson</td>\n",
              "      <td>NaN</td>\n",
              "      <td>United States</td>\n",
              "      <td>September 25, 2021</td>\n",
              "      <td>2020</td>\n",
              "      <td>PG-13</td>\n",
              "      <td>90 min</td>\n",
              "      <td>Documentaries</td>\n",
              "      <td>As her father nears the end of his life, filmm...</td>\n",
              "    </tr>\n",
              "    <tr>\n",
              "      <th>1</th>\n",
              "      <td>s2</td>\n",
              "      <td>TV Show</td>\n",
              "      <td>Blood &amp; Water</td>\n",
              "      <td>NaN</td>\n",
              "      <td>Ama Qamata, Khosi Ngema, Gail Mabalane, Thaban...</td>\n",
              "      <td>South Africa</td>\n",
              "      <td>September 24, 2021</td>\n",
              "      <td>2021</td>\n",
              "      <td>TV-MA</td>\n",
              "      <td>2 Seasons</td>\n",
              "      <td>International TV Shows, TV Dramas, TV Mysteries</td>\n",
              "      <td>After crossing paths at a party, a Cape Town t...</td>\n",
              "    </tr>\n",
              "    <tr>\n",
              "      <th>2</th>\n",
              "      <td>s3</td>\n",
              "      <td>TV Show</td>\n",
              "      <td>Ganglands</td>\n",
              "      <td>Julien Leclercq</td>\n",
              "      <td>Sami Bouajila, Tracy Gotoas, Samuel Jouy, Nabi...</td>\n",
              "      <td>NaN</td>\n",
              "      <td>September 24, 2021</td>\n",
              "      <td>2021</td>\n",
              "      <td>TV-MA</td>\n",
              "      <td>1 Season</td>\n",
              "      <td>Crime TV Shows, International TV Shows, TV Act...</td>\n",
              "      <td>To protect his family from a powerful drug lor...</td>\n",
              "    </tr>\n",
              "    <tr>\n",
              "      <th>3</th>\n",
              "      <td>s4</td>\n",
              "      <td>TV Show</td>\n",
              "      <td>Jailbirds New Orleans</td>\n",
              "      <td>NaN</td>\n",
              "      <td>NaN</td>\n",
              "      <td>NaN</td>\n",
              "      <td>September 24, 2021</td>\n",
              "      <td>2021</td>\n",
              "      <td>TV-MA</td>\n",
              "      <td>1 Season</td>\n",
              "      <td>Docuseries, Reality TV</td>\n",
              "      <td>Feuds, flirtations and toilet talk go down amo...</td>\n",
              "    </tr>\n",
              "    <tr>\n",
              "      <th>4</th>\n",
              "      <td>s5</td>\n",
              "      <td>TV Show</td>\n",
              "      <td>Kota Factory</td>\n",
              "      <td>NaN</td>\n",
              "      <td>Mayur More, Jitendra Kumar, Ranjan Raj, Alam K...</td>\n",
              "      <td>India</td>\n",
              "      <td>September 24, 2021</td>\n",
              "      <td>2021</td>\n",
              "      <td>TV-MA</td>\n",
              "      <td>2 Seasons</td>\n",
              "      <td>International TV Shows, Romantic TV Shows, TV ...</td>\n",
              "      <td>In a city of coaching centers known to train I...</td>\n",
              "    </tr>\n",
              "  </tbody>\n",
              "</table>\n",
              "</div>\n",
              "      <button class=\"colab-df-convert\" onclick=\"convertToInteractive('df-f2ab3282-7a27-4a67-8cf9-1f00d2b421ef')\"\n",
              "              title=\"Convert this dataframe to an interactive table.\"\n",
              "              style=\"display:none;\">\n",
              "        \n",
              "  <svg xmlns=\"http://www.w3.org/2000/svg\" height=\"24px\"viewBox=\"0 0 24 24\"\n",
              "       width=\"24px\">\n",
              "    <path d=\"M0 0h24v24H0V0z\" fill=\"none\"/>\n",
              "    <path d=\"M18.56 5.44l.94 2.06.94-2.06 2.06-.94-2.06-.94-.94-2.06-.94 2.06-2.06.94zm-11 1L8.5 8.5l.94-2.06 2.06-.94-2.06-.94L8.5 2.5l-.94 2.06-2.06.94zm10 10l.94 2.06.94-2.06 2.06-.94-2.06-.94-.94-2.06-.94 2.06-2.06.94z\"/><path d=\"M17.41 7.96l-1.37-1.37c-.4-.4-.92-.59-1.43-.59-.52 0-1.04.2-1.43.59L10.3 9.45l-7.72 7.72c-.78.78-.78 2.05 0 2.83L4 21.41c.39.39.9.59 1.41.59.51 0 1.02-.2 1.41-.59l7.78-7.78 2.81-2.81c.8-.78.8-2.07 0-2.86zM5.41 20L4 18.59l7.72-7.72 1.47 1.35L5.41 20z\"/>\n",
              "  </svg>\n",
              "      </button>\n",
              "      \n",
              "  <style>\n",
              "    .colab-df-container {\n",
              "      display:flex;\n",
              "      flex-wrap:wrap;\n",
              "      gap: 12px;\n",
              "    }\n",
              "\n",
              "    .colab-df-convert {\n",
              "      background-color: #E8F0FE;\n",
              "      border: none;\n",
              "      border-radius: 50%;\n",
              "      cursor: pointer;\n",
              "      display: none;\n",
              "      fill: #1967D2;\n",
              "      height: 32px;\n",
              "      padding: 0 0 0 0;\n",
              "      width: 32px;\n",
              "    }\n",
              "\n",
              "    .colab-df-convert:hover {\n",
              "      background-color: #E2EBFA;\n",
              "      box-shadow: 0px 1px 2px rgba(60, 64, 67, 0.3), 0px 1px 3px 1px rgba(60, 64, 67, 0.15);\n",
              "      fill: #174EA6;\n",
              "    }\n",
              "\n",
              "    [theme=dark] .colab-df-convert {\n",
              "      background-color: #3B4455;\n",
              "      fill: #D2E3FC;\n",
              "    }\n",
              "\n",
              "    [theme=dark] .colab-df-convert:hover {\n",
              "      background-color: #434B5C;\n",
              "      box-shadow: 0px 1px 3px 1px rgba(0, 0, 0, 0.15);\n",
              "      filter: drop-shadow(0px 1px 2px rgba(0, 0, 0, 0.3));\n",
              "      fill: #FFFFFF;\n",
              "    }\n",
              "  </style>\n",
              "\n",
              "      <script>\n",
              "        const buttonEl =\n",
              "          document.querySelector('#df-f2ab3282-7a27-4a67-8cf9-1f00d2b421ef button.colab-df-convert');\n",
              "        buttonEl.style.display =\n",
              "          google.colab.kernel.accessAllowed ? 'block' : 'none';\n",
              "\n",
              "        async function convertToInteractive(key) {\n",
              "          const element = document.querySelector('#df-f2ab3282-7a27-4a67-8cf9-1f00d2b421ef');\n",
              "          const dataTable =\n",
              "            await google.colab.kernel.invokeFunction('convertToInteractive',\n",
              "                                                     [key], {});\n",
              "          if (!dataTable) return;\n",
              "\n",
              "          const docLinkHtml = 'Like what you see? Visit the ' +\n",
              "            '<a target=\"_blank\" href=https://colab.research.google.com/notebooks/data_table.ipynb>data table notebook</a>'\n",
              "            + ' to learn more about interactive tables.';\n",
              "          element.innerHTML = '';\n",
              "          dataTable['output_type'] = 'display_data';\n",
              "          await google.colab.output.renderOutput(dataTable, element);\n",
              "          const docLink = document.createElement('div');\n",
              "          docLink.innerHTML = docLinkHtml;\n",
              "          element.appendChild(docLink);\n",
              "        }\n",
              "      </script>\n",
              "    </div>\n",
              "  </div>\n",
              "  "
            ]
          },
          "metadata": {},
          "execution_count": 146
        }
      ]
    },
    {
      "cell_type": "code",
      "source": [
        "df_date = df5[df5['date_added'].str.contains(\"January\")&df5['date_added'].str.contains('2018')]\n",
        "print(df_date.head())"
      ],
      "metadata": {
        "colab": {
          "base_uri": "https://localhost:8080/"
        },
        "id": "8gLKfgoSv8i3",
        "outputId": "f6a0ea45-93b3-451b-db23-41b7f4003b4f"
      },
      "execution_count": null,
      "outputs": [
        {
          "output_type": "stream",
          "name": "stdout",
          "text": [
            "     show_id     type                                              title  \\\n",
            "5055   s5056    Movie                               Expedition Happiness   \n",
            "5056   s5057    Movie  Jerry Seinfeld: I'm Telling You for the Last Time   \n",
            "5057   s5058  TV Show                                        Retribution   \n",
            "5058   s5059    Movie                                         Holy Camp!   \n",
            "5059   s5060    Movie                        A Futile and Stupid Gesture   \n",
            "\n",
            "                           director  \\\n",
            "5055                   Selima Taibi   \n",
            "5056                  Marty Callner   \n",
            "5057                            NaN   \n",
            "5058  Javier Ambrossi, Javier Calvo   \n",
            "5059                     David Wain   \n",
            "\n",
            "                                                   cast         country  \\\n",
            "5055                         Selima Taibi, Felix Starck         Germany   \n",
            "5056                                     Jerry Seinfeld   United States   \n",
            "5057  Georgina Campbell, Joe Dempsie, Adrian Edmonds...  United Kingdom   \n",
            "5058  Macarena García, Anna Castillo, Belén Cuesta, ...           Spain   \n",
            "5059  Will Forte, Domhnall Gleeson, Martin Mull, Joe...   United States   \n",
            "\n",
            "            date_added  release_year rating  duration  \\\n",
            "5055  January 31, 2018          2017  TV-PG    96 min   \n",
            "5056  January 30, 2018          1998  TV-14    69 min   \n",
            "5057  January 30, 2018          2016  TV-MA  1 Season   \n",
            "5058  January 29, 2018          2017  TV-MA   108 min   \n",
            "5059  January 26, 2018          2018  TV-MA   102 min   \n",
            "\n",
            "                                              listed_in  \\\n",
            "5055                Documentaries, International Movies   \n",
            "5056                                    Stand-Up Comedy   \n",
            "5057  British TV Shows, Crime TV Shows, Internationa...   \n",
            "5058             Comedies, Dramas, Faith & Spirituality   \n",
            "5059                                           Comedies   \n",
            "\n",
            "                                            description  \n",
            "5055  A filmmaker and his musician girlfriend attemp...  \n",
            "5056  Months after his classic TV sitcom ends, the l...  \n",
            "5057  A dark web of secrets and lies emerges when a ...  \n",
            "5058  In this musical comedy, two rebellious teen gi...  \n",
            "5059  In a brief life full of triumph and failure, \"...  \n"
          ]
        }
      ]
    },
    {
      "cell_type": "code",
      "source": [
        "len(df_date[df_date['country'] =='United Kingdom'])"
      ],
      "metadata": {
        "colab": {
          "base_uri": "https://localhost:8080/"
        },
        "id": "-0XI595xv8lG",
        "outputId": "c93eaefe-83c7-4828-8582-79c75c69279e"
      },
      "execution_count": null,
      "outputs": [
        {
          "output_type": "execute_result",
          "data": {
            "text/plain": [
              "6"
            ]
          },
          "metadata": {},
          "execution_count": 150
        }
      ]
    },
    {
      "cell_type": "markdown",
      "source": [
        "####작업형2"
      ],
      "metadata": {
        "id": "K6evNXhDxYsX"
      }
    },
    {
      "cell_type": "code",
      "source": [
        "import pandas as pd\n",
        "X_test = pd.read_csv(\"yemoonsaBigdata/datasets/Part3/404_x_test.csv\")\n",
        "X_train = pd.read_csv(\"yemoonsaBigdata/datasets/Part3/404_x_train.csv\")\n",
        "y_train = pd.read_csv(\"yemoonsaBigdata/datasets/Part3/404_y_train.csv\")"
      ],
      "metadata": {
        "id": "XLj-3frhv8nM"
      },
      "execution_count": 176,
      "outputs": []
    },
    {
      "cell_type": "code",
      "source": [
        "#고객이 속한 Segmentation을 예측하고 해당 예측 결과를 csv 파일로 제출하시오\n",
        "#제출한 예측값의 macro_f1 결과를 통해 영역별 배점에 따라 최종 점수가 반영될 예정\n",
        "\n",
        "print(X_train.head())"
      ],
      "metadata": {
        "colab": {
          "base_uri": "https://localhost:8080/"
        },
        "id": "oM_VVwodv8py",
        "outputId": "0998bceb-19d8-4727-81c1-8027f3d7237d"
      },
      "execution_count": 177,
      "outputs": [
        {
          "output_type": "stream",
          "name": "stdout",
          "text": [
            "       ID  Gender Ever_Married  Age Graduated  Profession  Work_Experience  \\\n",
            "0  462809    Male           No   22        No  Healthcare              1.0   \n",
            "1  466315  Female          Yes   67       Yes    Engineer              1.0   \n",
            "2  461735    Male          Yes   67       Yes      Lawyer              0.0   \n",
            "3  461319    Male          Yes   56        No      Artist              0.0   \n",
            "4  460156    Male           No   32       Yes  Healthcare              1.0   \n",
            "\n",
            "  Spending_Score  Family_Size  \n",
            "0            Low          4.0  \n",
            "1            Low          1.0  \n",
            "2           High          2.0  \n",
            "3        Average          2.0  \n",
            "4            Low          3.0  \n"
          ]
        }
      ]
    },
    {
      "cell_type": "code",
      "source": [
        "print(X_train.info())"
      ],
      "metadata": {
        "colab": {
          "base_uri": "https://localhost:8080/"
        },
        "id": "5MpCu65wyEvn",
        "outputId": "a9d1ce55-116c-4e6c-d1f5-69d770bbcc37"
      },
      "execution_count": 178,
      "outputs": [
        {
          "output_type": "stream",
          "name": "stdout",
          "text": [
            "<class 'pandas.core.frame.DataFrame'>\n",
            "RangeIndex: 6718 entries, 0 to 6717\n",
            "Data columns (total 9 columns):\n",
            " #   Column           Non-Null Count  Dtype  \n",
            "---  ------           --------------  -----  \n",
            " 0   ID               6718 non-null   int64  \n",
            " 1   Gender           6718 non-null   object \n",
            " 2   Ever_Married     6718 non-null   object \n",
            " 3   Age              6718 non-null   int64  \n",
            " 4   Graduated        6718 non-null   object \n",
            " 5   Profession       6718 non-null   object \n",
            " 6   Work_Experience  6718 non-null   float64\n",
            " 7   Spending_Score   6718 non-null   object \n",
            " 8   Family_Size      6718 non-null   float64\n",
            "dtypes: float64(2), int64(2), object(5)\n",
            "memory usage: 472.5+ KB\n",
            "None\n"
          ]
        }
      ]
    },
    {
      "cell_type": "code",
      "source": [
        "print(X_test.head())"
      ],
      "metadata": {
        "colab": {
          "base_uri": "https://localhost:8080/"
        },
        "id": "jTIGIhDXyEx5",
        "outputId": "c994e28a-7e87-4455-ccf3-a9c6afc3e646"
      },
      "execution_count": null,
      "outputs": [
        {
          "output_type": "stream",
          "name": "stdout",
          "text": [
            "       ID  Gender Ever_Married  Age Graduated  Profession  Work_Experience  \\\n",
            "0  458989  Female          Yes   36       Yes    Engineer              0.0   \n",
            "1  458994    Male          Yes   37       Yes  Healthcare              8.0   \n",
            "2  459000    Male          Yes   59        No   Executive             11.0   \n",
            "3  459003    Male          Yes   47       Yes      Doctor              0.0   \n",
            "4  459005    Male          Yes   61       Yes      Doctor              5.0   \n",
            "\n",
            "  Spending_Score  Family_Size  \n",
            "0            Low          1.0  \n",
            "1        Average          4.0  \n",
            "2           High          2.0  \n",
            "3           High          5.0  \n",
            "4            Low          3.0  \n"
          ]
        }
      ]
    },
    {
      "cell_type": "code",
      "source": [
        "print(X_test.info())"
      ],
      "metadata": {
        "colab": {
          "base_uri": "https://localhost:8080/"
        },
        "id": "cEdNQaPHyE0B",
        "outputId": "b3fbc307-ec70-4c5c-acfa-cde44b278952"
      },
      "execution_count": null,
      "outputs": [
        {
          "output_type": "stream",
          "name": "stdout",
          "text": [
            "<class 'pandas.core.frame.DataFrame'>\n",
            "RangeIndex: 2178 entries, 0 to 2177\n",
            "Data columns (total 9 columns):\n",
            " #   Column           Non-Null Count  Dtype  \n",
            "---  ------           --------------  -----  \n",
            " 0   ID               2178 non-null   int64  \n",
            " 1   Gender           2178 non-null   object \n",
            " 2   Ever_Married     2178 non-null   object \n",
            " 3   Age              2178 non-null   int64  \n",
            " 4   Graduated        2178 non-null   object \n",
            " 5   Profession       2178 non-null   object \n",
            " 6   Work_Experience  2178 non-null   float64\n",
            " 7   Spending_Score   2178 non-null   object \n",
            " 8   Family_Size      2178 non-null   float64\n",
            "dtypes: float64(2), int64(2), object(5)\n",
            "memory usage: 153.3+ KB\n",
            "None\n"
          ]
        }
      ]
    },
    {
      "cell_type": "code",
      "source": [
        "print(y_train.head())"
      ],
      "metadata": {
        "colab": {
          "base_uri": "https://localhost:8080/"
        },
        "id": "MGVYCH9NyMJz",
        "outputId": "3c788581-09f7-48d6-959b-d7f6d3243aca"
      },
      "execution_count": null,
      "outputs": [
        {
          "output_type": "stream",
          "name": "stdout",
          "text": [
            "       ID Segmentation\n",
            "0  462809            D\n",
            "1  466315            B\n",
            "2  461735            B\n",
            "3  461319            C\n",
            "4  460156            C\n"
          ]
        }
      ]
    },
    {
      "cell_type": "code",
      "source": [
        "X_train.isnull().sum()"
      ],
      "metadata": {
        "colab": {
          "base_uri": "https://localhost:8080/"
        },
        "id": "v8gb9NVzyMOR",
        "outputId": "af0c92e7-d9fd-4e8b-b476-574c35217014"
      },
      "execution_count": null,
      "outputs": [
        {
          "output_type": "execute_result",
          "data": {
            "text/plain": [
              "ID                 0\n",
              "Gender             0\n",
              "Ever_Married       0\n",
              "Age                0\n",
              "Graduated          0\n",
              "Profession         0\n",
              "Work_Experience    0\n",
              "Spending_Score     0\n",
              "Family_Size        0\n",
              "dtype: int64"
            ]
          },
          "metadata": {},
          "execution_count": 157
        }
      ]
    },
    {
      "cell_type": "code",
      "source": [
        "X_test.isnull().sum()"
      ],
      "metadata": {
        "colab": {
          "base_uri": "https://localhost:8080/"
        },
        "id": "55452Wqmzho9",
        "outputId": "97a968ee-86cf-421e-8ad9-399c57bac295"
      },
      "execution_count": null,
      "outputs": [
        {
          "output_type": "execute_result",
          "data": {
            "text/plain": [
              "ID                 0\n",
              "Gender             0\n",
              "Ever_Married       0\n",
              "Age                0\n",
              "Graduated          0\n",
              "Profession         0\n",
              "Work_Experience    0\n",
              "Spending_Score     0\n",
              "Family_Size        0\n",
              "dtype: int64"
            ]
          },
          "metadata": {},
          "execution_count": 158
        }
      ]
    },
    {
      "cell_type": "code",
      "source": [
        "y_train.isnull().sum()"
      ],
      "metadata": {
        "colab": {
          "base_uri": "https://localhost:8080/"
        },
        "id": "FpoVWUoczhrP",
        "outputId": "a27f38dd-82ce-4e82-c756-4d45afa5b2ae"
      },
      "execution_count": null,
      "outputs": [
        {
          "output_type": "execute_result",
          "data": {
            "text/plain": [
              "ID              0\n",
              "Segmentation    0\n",
              "dtype: int64"
            ]
          },
          "metadata": {},
          "execution_count": 159
        }
      ]
    },
    {
      "cell_type": "code",
      "source": [
        "col_cat = ['Gender', 'Ever_Married', 'Graduated', 'Profession', 'Spending_Score']\n",
        "\n",
        "from sklearn.preprocessing import LabelEncoder\n",
        "label = LabelEncoder()\n",
        "\n",
        "X_train[col_cat] = X_train[col_cat].apply(label.fit_transform)\n",
        "X_test[col_cat] = X_test[col_cat].apply(label.fit_transform)\n",
        "print(X_train.head())"
      ],
      "metadata": {
        "id": "tDVdgXr8yML5",
        "colab": {
          "base_uri": "https://localhost:8080/"
        },
        "outputId": "f5b733d9-ea76-4879-ae49-4076daf94b2a"
      },
      "execution_count": 179,
      "outputs": [
        {
          "output_type": "stream",
          "name": "stdout",
          "text": [
            "       ID  Gender  Ever_Married  Age  Graduated  Profession  Work_Experience  \\\n",
            "0  462809       1             0   22          0           5              1.0   \n",
            "1  466315       0             1   67          1           2              1.0   \n",
            "2  461735       1             1   67          1           7              0.0   \n",
            "3  461319       1             1   56          0           0              0.0   \n",
            "4  460156       1             0   32          1           5              1.0   \n",
            "\n",
            "   Spending_Score  Family_Size  \n",
            "0               2          4.0  \n",
            "1               2          1.0  \n",
            "2               1          2.0  \n",
            "3               0          2.0  \n",
            "4               2          3.0  \n"
          ]
        }
      ]
    },
    {
      "cell_type": "code",
      "source": [
        "print(X_test.head())"
      ],
      "metadata": {
        "id": "8vsSf707yMQD",
        "colab": {
          "base_uri": "https://localhost:8080/"
        },
        "outputId": "a0a08d19-f935-4eb1-f239-3d58da788138"
      },
      "execution_count": 180,
      "outputs": [
        {
          "output_type": "stream",
          "name": "stdout",
          "text": [
            "       ID  Gender  Ever_Married  Age  Graduated  Profession  Work_Experience  \\\n",
            "0  458989       0             1   36          1           2              0.0   \n",
            "1  458994       1             1   37          1           5              8.0   \n",
            "2  459000       1             1   59          0           4             11.0   \n",
            "3  459003       1             1   47          1           1              0.0   \n",
            "4  459005       1             1   61          1           1              5.0   \n",
            "\n",
            "   Spending_Score  Family_Size  \n",
            "0               2          1.0  \n",
            "1               0          4.0  \n",
            "2               1          2.0  \n",
            "3               1          5.0  \n",
            "4               2          3.0  \n"
          ]
        }
      ]
    },
    {
      "cell_type": "code",
      "source": [
        "# help(sklearn.preprocessing.StandardScaler)\n",
        "col_num = ['Age', 'Family_Size', 'Work_Experience']\n",
        "from sklearn.preprocessing import StandardScaler\n",
        "scaler = StandardScaler()\n",
        "scaler.fit(X_train[col_num])\n",
        "\n",
        "X_train[col_num] = scaler.transform(X_train[col_num])\n",
        "X_test[col_num] = scaler.transform(X_test[col_num])"
      ],
      "metadata": {
        "id": "rE3W9HIY2Fc_"
      },
      "execution_count": 181,
      "outputs": []
    },
    {
      "cell_type": "code",
      "source": [
        "print(X_train.head())"
      ],
      "metadata": {
        "colab": {
          "base_uri": "https://localhost:8080/"
        },
        "id": "OHosjoi13rGf",
        "outputId": "8c635674-c36b-41e2-c3ad-d951e847a558"
      },
      "execution_count": 182,
      "outputs": [
        {
          "output_type": "stream",
          "name": "stdout",
          "text": [
            "       ID  Gender  Ever_Married       Age  Graduated  Profession  \\\n",
            "0  462809       1             0 -1.303562          0           5   \n",
            "1  466315       0             1  1.421748          1           2   \n",
            "2  461735       1             1  1.421748          1           7   \n",
            "3  461319       1             1  0.755561          0           0   \n",
            "4  460156       1             0 -0.697937          1           5   \n",
            "\n",
            "   Work_Experience  Spending_Score  Family_Size  \n",
            "0        -0.478692               2     0.760391  \n",
            "1        -0.478692               2    -1.209140  \n",
            "2        -0.772431               1    -0.552630  \n",
            "3        -0.772431               0    -0.552630  \n",
            "4        -0.478692               2     0.103881  \n"
          ]
        }
      ]
    },
    {
      "cell_type": "code",
      "source": [
        "from sklearn.model_selection import train_test_split\n",
        "\n",
        "X_tr, X_val, y_tr, y_val = train_test_split(X_train, y_train, test_size = 0.3, stratify = y_train['Segmentation'].values.ravel() )"
      ],
      "metadata": {
        "id": "HCysBXcJzhtl"
      },
      "execution_count": 192,
      "outputs": []
    },
    {
      "cell_type": "code",
      "source": [
        "# X_tr = X_tr.drop('ID', axis=1)\n",
        "X_val = X_val.drop('ID', axis=1)"
      ],
      "metadata": {
        "id": "TxkfUAhOAo_-"
      },
      "execution_count": 254,
      "outputs": []
    },
    {
      "cell_type": "code",
      "source": [
        "#모형 학습\n",
        "from sklearn.ensemble import RandomForestClassifier\n",
        "model1= RandomForestClassifier(random_state = 123)\n",
        "# help(sklearn.ensemble.RandomForestClassifier)\n",
        "model1.fit(X_tr, y_tr['Segmentation'])\n",
        "\n",
        "pred = model1.predict(X_val)\n",
        "pred"
      ],
      "metadata": {
        "colab": {
          "base_uri": "https://localhost:8080/"
        },
        "id": "oTYvL-sp4CRj",
        "outputId": "a322c01e-cc97-4925-b362-e5d5f606d660"
      },
      "execution_count": 255,
      "outputs": [
        {
          "output_type": "execute_result",
          "data": {
            "text/plain": [
              "array(['B', 'A', 'D', ..., 'A', 'D', 'A'], dtype=object)"
            ]
          },
          "metadata": {},
          "execution_count": 255
        }
      ]
    },
    {
      "cell_type": "code",
      "source": [
        "#답안 제출\n",
        "import sklearn\n",
        "# dir(sklearn.metrics)\n",
        "print(y_val)"
      ],
      "metadata": {
        "colab": {
          "base_uri": "https://localhost:8080/"
        },
        "id": "MwNNM1VT4CTo",
        "outputId": "c3914375-7457-4074-938b-681c919bb239"
      },
      "execution_count": 256,
      "outputs": [
        {
          "output_type": "stream",
          "name": "stdout",
          "text": [
            "          ID Segmentation\n",
            "4685  465524            C\n",
            "1564  467190            B\n",
            "3687  461679            D\n",
            "4607  462236            C\n",
            "1468  460983            D\n",
            "...      ...          ...\n",
            "2103  464827            D\n",
            "2967  461304            C\n",
            "4703  460803            D\n",
            "3570  465250            D\n",
            "1143  462321            A\n",
            "\n",
            "[2016 rows x 2 columns]\n"
          ]
        }
      ]
    },
    {
      "cell_type": "code",
      "source": [
        "from sklearn.metrics import f1_score\n",
        "# help(sklearn.metrics.f1_score)\n",
        "\n",
        "print(pred)\n",
        "score = f1_score(y_val[\"Segmentation\"], pred, average='macro')\n",
        "score"
      ],
      "metadata": {
        "colab": {
          "base_uri": "https://localhost:8080/"
        },
        "id": "A2RQBq4o4CVu",
        "outputId": "a8988736-d600-4a6d-b3c6-ef633c2d6505"
      },
      "execution_count": 257,
      "outputs": [
        {
          "output_type": "stream",
          "name": "stdout",
          "text": [
            "['B' 'A' 'D' ... 'A' 'D' 'A']\n"
          ]
        },
        {
          "output_type": "execute_result",
          "data": {
            "text/plain": [
              "0.46537308856673587"
            ]
          },
          "metadata": {},
          "execution_count": 257
        }
      ]
    },
    {
      "cell_type": "code",
      "source": [
        "from sklearn.linear_model import LogisticRegression\n",
        "model2 = LogisticRegression()\n",
        "model2.fit(X_tr, y_tr['Segmentation'])\n",
        "\n",
        "pred2 = model2.predict(X_val)\n",
        "pred2"
      ],
      "metadata": {
        "colab": {
          "base_uri": "https://localhost:8080/"
        },
        "id": "swl8sKza4CXj",
        "outputId": "0ebcdee5-3224-416c-d79b-b79d32c59bba"
      },
      "execution_count": 225,
      "outputs": [
        {
          "output_type": "execute_result",
          "data": {
            "text/plain": [
              "array(['D', 'D', 'D', ..., 'D', 'D', 'D'], dtype=object)"
            ]
          },
          "metadata": {},
          "execution_count": 225
        }
      ]
    },
    {
      "cell_type": "code",
      "source": [
        "score2 = f1_score(y_val['Segmentation'], pred2, average='macro')\n",
        "score2"
      ],
      "metadata": {
        "colab": {
          "base_uri": "https://localhost:8080/"
        },
        "id": "jL1msB-m4CZn",
        "outputId": "b0eb9bd4-ae09-4d92-e867-b1accb2e9035"
      },
      "execution_count": 226,
      "outputs": [
        {
          "output_type": "execute_result",
          "data": {
            "text/plain": [
              "0.1043956043956044"
            ]
          },
          "metadata": {},
          "execution_count": 226
        }
      ]
    },
    {
      "cell_type": "code",
      "source": [
        "#답안 제출\n",
        "print(X_test)\n",
        "ans = model1.predict(X_test)\n",
        "ans"
      ],
      "metadata": {
        "colab": {
          "base_uri": "https://localhost:8080/"
        },
        "id": "LoySjeLf4Cbt",
        "outputId": "812b8f50-1e27-4da6-e28d-d21201d8e4db"
      },
      "execution_count": 261,
      "outputs": [
        {
          "output_type": "stream",
          "name": "stdout",
          "text": [
            "      Gender  Ever_Married       Age  Graduated  Profession  Work_Experience  \\\n",
            "0          0             1 -0.455688          1           2        -0.772431   \n",
            "1          1             1 -0.395125          1           5         1.577479   \n",
            "2          1             1  0.937248          0           4         2.458695   \n",
            "3          1             1  0.210499          1           1        -0.772431   \n",
            "4          1             1  1.058373          1           1         0.696263   \n",
            "...      ...           ...       ...        ...         ...              ...   \n",
            "2173       0             0 -0.516250          1           3        -0.478692   \n",
            "2174       1             0 -0.879625          0           5         1.871218   \n",
            "2175       0             0 -0.516250          1           1        -0.478692   \n",
            "2176       1             1  0.210499          1           4        -0.478692   \n",
            "2177       0             0 -0.031751          1           5         1.871218   \n",
            "\n",
            "      Spending_Score  Family_Size  \n",
            "0                  2    -1.209140  \n",
            "1                  0     0.760391  \n",
            "2                  1    -0.552630  \n",
            "3                  1     1.416901  \n",
            "4                  2     0.103881  \n",
            "...              ...          ...  \n",
            "2173               2    -0.552630  \n",
            "2174               2     0.760391  \n",
            "2175               2    -1.209140  \n",
            "2176               1     1.416901  \n",
            "2177               2     0.103881  \n",
            "\n",
            "[2178 rows x 8 columns]\n"
          ]
        },
        {
          "output_type": "execute_result",
          "data": {
            "text/plain": [
              "array(['A', 'C', 'C', ..., 'B', 'C', 'D'], dtype=object)"
            ]
          },
          "metadata": {},
          "execution_count": 261
        }
      ]
    },
    {
      "cell_type": "code",
      "source": [
        "ID = pd.read_csv(\"yemoonsaBigdata/datasets/Part3/404_x_test.csv\")['ID']\n",
        "print(ans)"
      ],
      "metadata": {
        "colab": {
          "base_uri": "https://localhost:8080/"
        },
        "id": "8C0k70Q5Bb9M",
        "outputId": "65de1311-85c2-4de0-bce0-ce23e5c4aedd"
      },
      "execution_count": 265,
      "outputs": [
        {
          "output_type": "stream",
          "name": "stdout",
          "text": [
            "['A' 'C' 'C' ... 'B' 'C' 'D']\n"
          ]
        }
      ]
    },
    {
      "cell_type": "code",
      "source": [
        "answer= pd.DataFrame({\n",
        "    'ID': ID,\n",
        "    'Segmentation': ans,\n",
        "})\n",
        "\n",
        "print(answer.head())"
      ],
      "metadata": {
        "colab": {
          "base_uri": "https://localhost:8080/"
        },
        "id": "GnEC9kQN-KYd",
        "outputId": "9fe54197-5a06-474a-e4d0-793d9ebbd409"
      },
      "execution_count": 266,
      "outputs": [
        {
          "output_type": "stream",
          "name": "stdout",
          "text": [
            "       ID Segmentation\n",
            "0  458989            A\n",
            "1  458994            C\n",
            "2  459000            C\n",
            "3  459003            C\n",
            "4  459005            A\n"
          ]
        }
      ]
    },
    {
      "cell_type": "code",
      "source": [
        "answer.to_csv(\"0003.csv\", index=False)"
      ],
      "metadata": {
        "id": "o0G_xWS--KbT"
      },
      "execution_count": 267,
      "outputs": []
    },
    {
      "cell_type": "code",
      "source": [
        "pd.read_csv(\"0003.csv\").head()"
      ],
      "metadata": {
        "colab": {
          "base_uri": "https://localhost:8080/",
          "height": 206
        },
        "id": "osqyRdVe-Kes",
        "outputId": "71a8939c-046d-41af-e10a-803718cba858"
      },
      "execution_count": 268,
      "outputs": [
        {
          "output_type": "execute_result",
          "data": {
            "text/plain": [
              "       ID Segmentation\n",
              "0  458989            A\n",
              "1  458994            C\n",
              "2  459000            C\n",
              "3  459003            C\n",
              "4  459005            A"
            ],
            "text/html": [
              "\n",
              "  <div id=\"df-d8f029db-d7dc-40cb-bc03-120d7121f30b\">\n",
              "    <div class=\"colab-df-container\">\n",
              "      <div>\n",
              "<style scoped>\n",
              "    .dataframe tbody tr th:only-of-type {\n",
              "        vertical-align: middle;\n",
              "    }\n",
              "\n",
              "    .dataframe tbody tr th {\n",
              "        vertical-align: top;\n",
              "    }\n",
              "\n",
              "    .dataframe thead th {\n",
              "        text-align: right;\n",
              "    }\n",
              "</style>\n",
              "<table border=\"1\" class=\"dataframe\">\n",
              "  <thead>\n",
              "    <tr style=\"text-align: right;\">\n",
              "      <th></th>\n",
              "      <th>ID</th>\n",
              "      <th>Segmentation</th>\n",
              "    </tr>\n",
              "  </thead>\n",
              "  <tbody>\n",
              "    <tr>\n",
              "      <th>0</th>\n",
              "      <td>458989</td>\n",
              "      <td>A</td>\n",
              "    </tr>\n",
              "    <tr>\n",
              "      <th>1</th>\n",
              "      <td>458994</td>\n",
              "      <td>C</td>\n",
              "    </tr>\n",
              "    <tr>\n",
              "      <th>2</th>\n",
              "      <td>459000</td>\n",
              "      <td>C</td>\n",
              "    </tr>\n",
              "    <tr>\n",
              "      <th>3</th>\n",
              "      <td>459003</td>\n",
              "      <td>C</td>\n",
              "    </tr>\n",
              "    <tr>\n",
              "      <th>4</th>\n",
              "      <td>459005</td>\n",
              "      <td>A</td>\n",
              "    </tr>\n",
              "  </tbody>\n",
              "</table>\n",
              "</div>\n",
              "      <button class=\"colab-df-convert\" onclick=\"convertToInteractive('df-d8f029db-d7dc-40cb-bc03-120d7121f30b')\"\n",
              "              title=\"Convert this dataframe to an interactive table.\"\n",
              "              style=\"display:none;\">\n",
              "        \n",
              "  <svg xmlns=\"http://www.w3.org/2000/svg\" height=\"24px\"viewBox=\"0 0 24 24\"\n",
              "       width=\"24px\">\n",
              "    <path d=\"M0 0h24v24H0V0z\" fill=\"none\"/>\n",
              "    <path d=\"M18.56 5.44l.94 2.06.94-2.06 2.06-.94-2.06-.94-.94-2.06-.94 2.06-2.06.94zm-11 1L8.5 8.5l.94-2.06 2.06-.94-2.06-.94L8.5 2.5l-.94 2.06-2.06.94zm10 10l.94 2.06.94-2.06 2.06-.94-2.06-.94-.94-2.06-.94 2.06-2.06.94z\"/><path d=\"M17.41 7.96l-1.37-1.37c-.4-.4-.92-.59-1.43-.59-.52 0-1.04.2-1.43.59L10.3 9.45l-7.72 7.72c-.78.78-.78 2.05 0 2.83L4 21.41c.39.39.9.59 1.41.59.51 0 1.02-.2 1.41-.59l7.78-7.78 2.81-2.81c.8-.78.8-2.07 0-2.86zM5.41 20L4 18.59l7.72-7.72 1.47 1.35L5.41 20z\"/>\n",
              "  </svg>\n",
              "      </button>\n",
              "      \n",
              "  <style>\n",
              "    .colab-df-container {\n",
              "      display:flex;\n",
              "      flex-wrap:wrap;\n",
              "      gap: 12px;\n",
              "    }\n",
              "\n",
              "    .colab-df-convert {\n",
              "      background-color: #E8F0FE;\n",
              "      border: none;\n",
              "      border-radius: 50%;\n",
              "      cursor: pointer;\n",
              "      display: none;\n",
              "      fill: #1967D2;\n",
              "      height: 32px;\n",
              "      padding: 0 0 0 0;\n",
              "      width: 32px;\n",
              "    }\n",
              "\n",
              "    .colab-df-convert:hover {\n",
              "      background-color: #E2EBFA;\n",
              "      box-shadow: 0px 1px 2px rgba(60, 64, 67, 0.3), 0px 1px 3px 1px rgba(60, 64, 67, 0.15);\n",
              "      fill: #174EA6;\n",
              "    }\n",
              "\n",
              "    [theme=dark] .colab-df-convert {\n",
              "      background-color: #3B4455;\n",
              "      fill: #D2E3FC;\n",
              "    }\n",
              "\n",
              "    [theme=dark] .colab-df-convert:hover {\n",
              "      background-color: #434B5C;\n",
              "      box-shadow: 0px 1px 3px 1px rgba(0, 0, 0, 0.15);\n",
              "      filter: drop-shadow(0px 1px 2px rgba(0, 0, 0, 0.3));\n",
              "      fill: #FFFFFF;\n",
              "    }\n",
              "  </style>\n",
              "\n",
              "      <script>\n",
              "        const buttonEl =\n",
              "          document.querySelector('#df-d8f029db-d7dc-40cb-bc03-120d7121f30b button.colab-df-convert');\n",
              "        buttonEl.style.display =\n",
              "          google.colab.kernel.accessAllowed ? 'block' : 'none';\n",
              "\n",
              "        async function convertToInteractive(key) {\n",
              "          const element = document.querySelector('#df-d8f029db-d7dc-40cb-bc03-120d7121f30b');\n",
              "          const dataTable =\n",
              "            await google.colab.kernel.invokeFunction('convertToInteractive',\n",
              "                                                     [key], {});\n",
              "          if (!dataTable) return;\n",
              "\n",
              "          const docLinkHtml = 'Like what you see? Visit the ' +\n",
              "            '<a target=\"_blank\" href=https://colab.research.google.com/notebooks/data_table.ipynb>data table notebook</a>'\n",
              "            + ' to learn more about interactive tables.';\n",
              "          element.innerHTML = '';\n",
              "          dataTable['output_type'] = 'display_data';\n",
              "          await google.colab.output.renderOutput(dataTable, element);\n",
              "          const docLink = document.createElement('div');\n",
              "          docLink.innerHTML = docLinkHtml;\n",
              "          element.appendChild(docLink);\n",
              "        }\n",
              "      </script>\n",
              "    </div>\n",
              "  </div>\n",
              "  "
            ]
          },
          "metadata": {},
          "execution_count": 268
        }
      ]
    }
  ]
}